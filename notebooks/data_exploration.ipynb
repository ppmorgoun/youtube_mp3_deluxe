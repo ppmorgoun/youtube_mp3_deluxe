{
 "cells": [
  {
   "cell_type": "code",
   "execution_count": 5,
   "metadata": {},
   "outputs": [],
   "source": [
    "import pandas as pd\n",
    "from sklearn.utils import shuffle\n"
   ]
  },
  {
   "cell_type": "code",
   "execution_count": 6,
   "metadata": {},
   "outputs": [
    {
     "data": {
      "text/plain": [
       "((585, 4),\n",
       " (573, 4),\n",
       " (1158, 4),\n",
       " Index(['Title', 'URL', 'Duration', 'is_song'], dtype='object'))"
      ]
     },
     "execution_count": 6,
     "metadata": {},
     "output_type": "execute_result"
    }
   ],
   "source": [
    "path = '../data/'\n",
    "\n",
    "music_df = pd.concat([pd.read_csv('../data/music_data/best_of_mrsuicidesheep.csv'), pd.read_csv('../data/music_data/peaceful_piano.csv'), pd.read_csv('../data/music_data/pp_mixes.csv'), pd.read_csv('../data/music_data/XPERIA_Playlist.csv')])\n",
    "non_music_df = pd.concat([pd.read_csv('../data/non_music_data/cosmonaut_variety_hour.csv'), pd.read_csv('../data/non_music_data/daily_dose_internet_science.csv'), pd.read_csv('../data/non_music_data/deep_learning_lectures.csv'), pd.read_csv('../data/non_music_data/favorite_podcasts.csv'), pd.read_csv('../data/non_music_data/short_memes.csv'), pd.read_csv('../data/non_music_data/college_humour_greatest_hits.csv')])\n",
    "\n",
    "music_df.set_index('Index', inplace = True)\n",
    "music_df.drop('Unnamed: 0', axis=1, inplace=True)\n",
    "\n",
    "non_music_df.set_index('Index', inplace = True)\n",
    "non_music_df.drop('Unnamed: 0', axis=1, inplace=True)\n",
    "\n",
    "music_df['is_song'] = 1\n",
    "non_music_df['is_song'] = 0\n",
    "\n",
    "df = pd.concat([music_df, non_music_df])\n",
    "df = shuffle(df)\n",
    "\n",
    "music_df.shape, non_music_df.shape, df.shape, df.columns"
   ]
  },
  {
   "cell_type": "code",
   "execution_count": 7,
   "metadata": {},
   "outputs": [
    {
     "data": {
      "text/plain": [
       "((787, 2), (787,), (197, 2), (197,), (174, 2), (174,))"
      ]
     },
     "execution_count": 7,
     "metadata": {},
     "output_type": "execute_result"
    }
   ],
   "source": [
    "# Baseline RF model\n",
    "# Imports \n",
    "from sklearn.ensemble import RandomForestClassifier\n",
    "from sklearn.model_selection import train_test_split\n",
    "from sklearn.metrics import f1_score as f1\n",
    "\n",
    "# Splitting the data\n",
    "\n",
    "features = ['Title', 'Duration']\n",
    "target = 'is_song'\n",
    "\n",
    "X = df[features]\n",
    "y = df[target]\n",
    "\n",
    "X_train, X_test, y_train, y_test = train_test_split(X, y, test_size = 0.15)\n",
    "X_train, X_val, y_train, y_val = train_test_split(X_train, y_train, test_size = 0.2)\n",
    "indexes = {'train': X_train.index.tolist(), 'val': X_val.index.tolist(), 'test': X_test.index.tolist()}\n",
    "X_train.shape, y_train.shape, X_val.shape, y_val.shape, X_test.shape, y_test.shape"
   ]
  },
  {
   "cell_type": "code",
   "execution_count": null,
   "metadata": {},
   "outputs": [],
   "source": []
  }
 ],
 "metadata": {
  "kernelspec": {
   "display_name": "Python 3",
   "language": "python",
   "name": "python3"
  },
  "language_info": {
   "codemirror_mode": {
    "name": "ipython",
    "version": 3
   },
   "file_extension": ".py",
   "mimetype": "text/x-python",
   "name": "python",
   "nbconvert_exporter": "python",
   "pygments_lexer": "ipython3",
   "version": "3.8.8"
  }
 },
 "nbformat": 4,
 "nbformat_minor": 1
}